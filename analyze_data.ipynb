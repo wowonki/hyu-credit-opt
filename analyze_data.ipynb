{
 "cells": [
  {
   "cell_type": "code",
   "execution_count": 2,
   "metadata": {},
   "outputs": [],
   "source": [
    "from src.dataloader import DataLoader\n",
    "\n",
    "dataloader = DataLoader()\n",
    "variables, A, B, L = dataloader.load()"
   ]
  },
  {
   "cell_type": "code",
   "execution_count": 3,
   "metadata": {},
   "outputs": [],
   "source": [
    "from cvxopt import solvers\n",
    "\n",
    "for used_vars in variables[:1]:\n",
    "    used_const = [0, 1, 2] # weights upper, lower bound & return lower bound\n",
    "\n",
    "    for v in used_vars:\n",
    "        used_const.append(3 + v)\n",
    "        used_const.append(3003 + v)\n",
    "\n",
    "    # optimals = solvers.lp(L[used_vars], A[used_const, used_vars], B[used_const])\n",
    "    optimals2 = solvers.lp(L[used_vars], A[used_const, used_vars], B[used_const], solver=\"glpk\")"
   ]
  },
  {
   "cell_type": "code",
   "execution_count": 4,
   "metadata": {},
   "outputs": [
    {
     "data": {
      "text/plain": [
       "{'status': 'optimal',\n",
       " 'x': <1781x1 matrix, tc='d'>,\n",
       " 's': <3565x1 matrix, tc='d'>,\n",
       " 'y': <0x1 matrix, tc='d'>,\n",
       " 'z': <3565x1 matrix, tc='d'>,\n",
       " 'primal objective': -0.7916923330773643,\n",
       " 'dual objective': -0.7916923330773643,\n",
       " 'gap': -3.2452097072119725e-17,\n",
       " 'relative gap': -4.0990793665989056e-17,\n",
       " 'primal infeasibility': 6.67703919525431e-16,\n",
       " 'dual infeasibility': 1.7809024548261769e-16,\n",
       " 'primal slack': -1.7288687842453854e-15,\n",
       " 'dual slack': -0.0,\n",
       " 'residual as primal infeasibility certificate': None,\n",
       " 'residual as dual infeasibility certificate': None}"
      ]
     },
     "execution_count": 4,
     "metadata": {},
     "output_type": "execute_result"
    }
   ],
   "source": [
    "optimals2"
   ]
  }
 ],
 "metadata": {
  "kernelspec": {
   "display_name": ".venv",
   "language": "python",
   "name": "python3"
  },
  "language_info": {
   "codemirror_mode": {
    "name": "ipython",
    "version": 3
   },
   "file_extension": ".py",
   "mimetype": "text/x-python",
   "name": "python",
   "nbconvert_exporter": "python",
   "pygments_lexer": "ipython3",
   "version": "3.12.3"
  }
 },
 "nbformat": 4,
 "nbformat_minor": 2
}
