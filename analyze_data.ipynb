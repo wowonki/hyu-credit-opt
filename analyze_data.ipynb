{
 "cells": [
  {
   "cell_type": "code",
   "execution_count": 22,
   "metadata": {},
   "outputs": [],
   "source": [
    "from src.dataloader import DataLoader\n",
    "from src.solver import solve_lp\n",
    "\n",
    "dataloader = DataLoader()\n",
    "variables, A, B, L = dataloader.load()"
   ]
  },
  {
   "cell_type": "code",
   "execution_count": 23,
   "metadata": {},
   "outputs": [
    {
     "data": {
      "text/plain": [
       "(36,\n",
       " {'status': 'primal infeasible',\n",
       "  'x': None,\n",
       "  's': None,\n",
       "  'y': None,\n",
       "  'z': None,\n",
       "  'primal objective': None,\n",
       "  'dual objective': None,\n",
       "  'gap': None,\n",
       "  'relative gap': None,\n",
       "  'primal infeasibility': None,\n",
       "  'dual infeasibility': None,\n",
       "  'primal slack': None,\n",
       "  'dual slack': None,\n",
       "  'residual as primal infeasibility certificate': None,\n",
       "  'residual as dual infeasibility certificate': None,\n",
       "  'elapsed': 0.10120534896850586,\n",
       "  'prob_num': 36})"
      ]
     },
     "execution_count": 23,
     "metadata": {},
     "output_type": "execute_result"
    }
   ],
   "source": [
    "i = 36\n",
    "result = solve_lp((i, variables[i]), L, A, B)\n",
    "\n",
    "result"
   ]
  },
  {
   "cell_type": "code",
   "execution_count": 6,
   "metadata": {},
   "outputs": [],
   "source": [
    "import multiprocessing \n",
    "\n",
    "queue = multiprocessing.Queue()\n",
    "\n",
    "def task_lp(variables_batch, batch_idx, L, A, B):\n",
    "    results = []\n",
    "    for i, row_variable in zip(batch_idx, variables_batch):\n",
    "        results.append(solve_lp((i, row_variable), L, A, B))\n",
    "    \n",
    "    return results\n",
    "\n",
    "def main():\n",
    "    num_probs = 120\n",
    "    num_workers = 3\n",
    "    batch_size = 30\n",
    "    \n",
    "    variables, A, B, L = dataloader.load()\n",
    "    \n",
    "    # with multiprocessing.Pool(processes=num_workers) as pool:\n",
    "    for i in range(0, num_probs, batch_size * num_workers):\n",
    "        \n",
    "        processes = []\n",
    "        for j in range(num_workers):\n",
    "            from_idx = i + j * batch_size\n",
    "            to_idx =  i + (j +1) * batch_size \n",
    "            \n",
    "            if from_idx > num_probs - 1:\n",
    "                continue\n",
    "            \n",
    "            elif to_idx > num_probs - 1:\n",
    "                to_idx = num_probs\n",
    "                \n",
    "            batch_idx = range(from_idx, to_idx)\n",
    "\n",
    "            process = multiprocessing.Process(target = task_lp, args = (variables[from_idx:to_idx], batch_idx, L, A, B))\n",
    "            processes.append(process)\n",
    "            \n",
    "        for process in processes:\n",
    "            process.start()\n",
    "            \n",
    "        for process in processes:\n",
    "            process.join()"
   ]
  },
  {
   "cell_type": "code",
   "execution_count": 11,
   "metadata": {},
   "outputs": [],
   "source": [
    "with multiprocessing.Pool(processes=2) as pool:\n",
    "    \n",
    "    async_results = [pool.apply_async(task_lp, args=(variables[i:i*10], range(i, i*10), L, A, B)) for i in range(2)]\n",
    "    # for process in processes:\n",
    "    #     process.start()\n",
    "\n",
    "    # for process in processes:\n",
    "    #     process.join()\n",
    "\n",
    "    \n",
    "    # task_lp(variables[0:10], range(0, 10), L, A, B)"
   ]
  },
  {
   "cell_type": "code",
   "execution_count": 13,
   "metadata": {},
   "outputs": [],
   "source": [
    "async_results[0].get()"
   ]
  }
 ],
 "metadata": {
  "kernelspec": {
   "display_name": ".venv",
   "language": "python",
   "name": "python3"
  },
  "language_info": {
   "codemirror_mode": {
    "name": "ipython",
    "version": 3
   },
   "file_extension": ".py",
   "mimetype": "text/x-python",
   "name": "python",
   "nbconvert_exporter": "python",
   "pygments_lexer": "ipython3",
   "version": "3.12.3"
  }
 },
 "nbformat": 4,
 "nbformat_minor": 2
}
